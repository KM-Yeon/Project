{
 "cells": [
  {
   "cell_type": "code",
   "execution_count": 1,
   "metadata": {},
   "outputs": [],
   "source": [
    "import cv2  # openCV\n",
    "import os   # help find files\n",
    "import time # break and move collect different angle \n",
    "import uuid # name at Image files"
   ]
  },
  {
   "cell_type": "code",
   "execution_count": 21,
   "metadata": {},
   "outputs": [
    {
     "name": "stdout",
     "output_type": "stream",
     "text": [
      "Collecting tensorflow==2.2.0\n",
      "  Downloading tensorflow-2.2.0-cp38-cp38-win_amd64.whl (459.2 MB)\n",
      "Collecting keras-preprocessing>=1.1.0\n",
      "  Using cached Keras_Preprocessing-1.1.2-py2.py3-none-any.whl (42 kB)\n",
      "Collecting tensorboard<2.3.0,>=2.2.0\n",
      "  Downloading tensorboard-2.2.2-py3-none-any.whl (3.0 MB)\n",
      "Processing c:\\users\\dskidsnoteb\\appdata\\local\\pip\\cache\\wheels\\a0\\16\\9c\\5473df82468f958445479c59e784896fa24f4a5fc024b0f501\\termcolor-1.1.0-py3-none-any.whl\n",
      "Collecting grpcio>=1.8.6\n",
      "  Downloading grpcio-1.36.0-cp38-cp38-win_amd64.whl (3.0 MB)\n",
      "Collecting astunparse==1.6.3\n",
      "  Using cached astunparse-1.6.3-py2.py3-none-any.whl (12 kB)\n",
      "Collecting absl-py>=0.7.0\n",
      "  Using cached absl_py-0.11.0-py3-none-any.whl (127 kB)\n",
      "Collecting protobuf>=3.8.0\n",
      "  Using cached protobuf-3.15.3-py2.py3-none-any.whl (173 kB)\n",
      "Collecting gast==0.3.3\n",
      "  Using cached gast-0.3.3-py2.py3-none-any.whl (9.7 kB)\n",
      "Collecting tensorflow-estimator<2.3.0,>=2.2.0\n",
      "  Downloading tensorflow_estimator-2.2.0-py2.py3-none-any.whl (454 kB)\n",
      "Collecting google-pasta>=0.1.8\n",
      "  Using cached google_pasta-0.2.0-py3-none-any.whl (57 kB)\n",
      "Collecting numpy<2.0,>=1.16.0\n",
      "  Using cached numpy-1.20.1-cp38-cp38-win_amd64.whl (13.7 MB)\n",
      "Collecting scipy==1.4.1; python_version >= \"3\"\n",
      "  Downloading scipy-1.4.1-cp38-cp38-win_amd64.whl (31.0 MB)\n",
      "Collecting h5py<2.11.0,>=2.10.0\n",
      "  Using cached h5py-2.10.0-cp38-cp38-win_amd64.whl (2.5 MB)\n",
      "Processing c:\\users\\dskidsnoteb\\appdata\\local\\pip\\cache\\wheels\\5f\\fd\\9e\\b6cf5890494cb8ef0b5eaff72e5d55a70fb56316007d6dfe73\\wrapt-1.12.1-py3-none-any.whl\n",
      "Collecting wheel>=0.26; python_version >= \"3\"\n",
      "  Using cached wheel-0.36.2-py2.py3-none-any.whl (35 kB)\n",
      "Collecting six>=1.12.0\n",
      "  Using cached six-1.15.0-py2.py3-none-any.whl (10 kB)\n",
      "Collecting opt-einsum>=2.3.2\n",
      "  Using cached opt_einsum-3.3.0-py3-none-any.whl (65 kB)\n",
      "Collecting markdown>=2.6.8\n",
      "  Using cached Markdown-3.3.4-py3-none-any.whl (97 kB)\n",
      "Collecting werkzeug>=0.11.15\n",
      "  Using cached Werkzeug-1.0.1-py2.py3-none-any.whl (298 kB)\n",
      "Collecting tensorboard-plugin-wit>=1.6.0\n",
      "  Using cached tensorboard_plugin_wit-1.8.0-py3-none-any.whl (781 kB)\n",
      "Collecting google-auth<2,>=1.6.3\n",
      "  Using cached google_auth-1.27.0-py2.py3-none-any.whl (135 kB)\n",
      "Collecting requests<3,>=2.21.0\n",
      "  Using cached requests-2.25.1-py2.py3-none-any.whl (61 kB)\n",
      "Collecting setuptools>=41.0.0Note: you may need to restart the kernel to use updated packages.\n",
      "  Downloading setuptools-54.0.0-py3-none-any.whl (784 kB)\n",
      "Collecting google-auth-oauthlib<0.5,>=0.4.1\n",
      "  Using cached google_auth_oauthlib-0.4.2-py2.py3-none-any.whl (18 kB)\n",
      "Collecting cachetools<5.0,>=2.0.0\n",
      "  Using cached cachetools-4.2.1-py3-none-any.whl (12 kB)\n",
      "Collecting pyasn1-modules>=0.2.1\n",
      "  Using cached pyasn1_modules-0.2.8-py2.py3-none-any.whl (155 kB)\n",
      "Collecting rsa<5,>=3.1.4; python_version >= \"3.6\"\n",
      "  Using cached rsa-4.7.2-py3-none-any.whl (34 kB)\n",
      "Collecting chardet<5,>=3.0.2\n",
      "  Using cached chardet-4.0.0-py2.py3-none-any.whl (178 kB)\n",
      "Collecting certifi>=2017.4.17\n",
      "  Using cached certifi-2020.12.5-py2.py3-none-any.whl (147 kB)\n",
      "Collecting urllib3<1.27,>=1.21.1\n",
      "\n"
     ]
    },
    {
     "name": "stderr",
     "output_type": "stream",
     "text": [
      "ERROR: Could not install packages due to an EnvironmentError: [WinError 5] 액세스가 거부되었습니다: 'C:\\\\Python\\\\anaconda3\\\\Lib\\\\site-packages\\\\numpy\\\\core\\\\_multiarray_tests.cp38-win_amd64.pyd'\n",
      "Consider using the `--user` option or check the permissions.\n",
      "\n"
     ]
    },
    {
     "name": "stdout",
     "output_type": "stream",
     "text": [
      "  Using cached urllib3-1.26.3-py2.py3-none-any.whl (137 kB)\n",
      "Collecting idna<3,>=2.5\n",
      "  Using cached idna-2.10-py2.py3-none-any.whl (58 kB)\n",
      "Collecting requests-oauthlib>=0.7.0\n",
      "  Using cached requests_oauthlib-1.3.0-py2.py3-none-any.whl (23 kB)\n",
      "Collecting pyasn1<0.5.0,>=0.4.6\n",
      "  Using cached pyasn1-0.4.8-py2.py3-none-any.whl (77 kB)\n",
      "Collecting oauthlib>=3.0.0\n",
      "  Using cached oauthlib-3.1.0-py2.py3-none-any.whl (147 kB)\n",
      "Installing collected packages: six, numpy, keras-preprocessing, grpcio, markdown, werkzeug, tensorboard-plugin-wit, protobuf, cachetools, pyasn1, pyasn1-modules, setuptools, rsa, google-auth, chardet, certifi, urllib3, idna, requests, absl-py, wheel, oauthlib, requests-oauthlib, google-auth-oauthlib, tensorboard, termcolor, astunparse, gast, tensorflow-estimator, google-pasta, scipy, h5py, wrapt, opt-einsum, tensorflow\n"
     ]
    }
   ],
   "source": [
    "pip install --ignore-installed --upgrade tensorflow==2.2.0"
   ]
  },
  {
   "cell_type": "code",
   "execution_count": 16,
   "metadata": {},
   "outputs": [
    {
     "name": "stdout",
     "output_type": "stream",
     "text": [
      "Collecting object_detection\n",
      "  Downloading object_detection-0.0.3-py3-none-any.whl (1.5 MB)\n",
      "Requirement already satisfied: tensorflow in c:\\python\\anaconda3\\lib\\site-packages (from object_detection) (2.4.1)\n",
      "Requirement already satisfied: contextlib2 in c:\\python\\anaconda3\\lib\\site-packages (from object_detection) (0.6.0.post1)\n",
      "Requirement already satisfied: jupyter in c:\\python\\anaconda3\\lib\\site-packages (from object_detection) (1.0.0)\n",
      "Requirement already satisfied: Cython in c:\\python\\anaconda3\\lib\\site-packages (from object_detection) (0.29.21)\n",
      "Requirement already satisfied: pillow in c:\\python\\anaconda3\\lib\\site-packages (from object_detection) (8.0.1)\n",
      "Requirement already satisfied: matplotlib in c:\\python\\anaconda3\\lib\\site-packages (from object_detection) (3.3.2)\n",
      "Requirement already satisfied: lxml in c:\\python\\anaconda3\\lib\\site-packages (from object_detection) (4.6.1)\n",
      "Requirement already satisfied: termcolor~=1.1.0 in c:\\python\\anaconda3\\lib\\site-packages (from tensorflow->object_detection) (1.1.0)\n",
      "Requirement already satisfied: opt-einsum~=3.3.0 in c:\\python\\anaconda3\\lib\\site-packages (from tensorflow->object_detection) (3.3.0)\n",
      "Requirement already satisfied: keras-preprocessing~=1.1.2 in c:\\python\\anaconda3\\lib\\site-packages (from tensorflow->object_detection) (1.1.2)\n",
      "Requirement already satisfied: google-pasta~=0.2 in c:\\python\\anaconda3\\lib\\site-packages (from tensorflow->object_detection) (0.2.0)\n",
      "Requirement already satisfied: six~=1.15.0 in c:\\python\\anaconda3\\lib\\site-packages (from tensorflow->object_detection) (1.15.0)\n",
      "Requirement already satisfied: h5py~=2.10.0 in c:\\python\\anaconda3\\lib\\site-packages (from tensorflow->object_detection) (2.10.0)\n",
      "Requirement already satisfied: wrapt~=1.12.1 in c:\\python\\anaconda3\\lib\\site-packages (from tensorflow->object_detection) (1.12.1)\n",
      "Requirement already satisfied: gast==0.3.3 in c:\\python\\anaconda3\\lib\\site-packages (from tensorflow->object_detection) (0.3.3)\n",
      "Requirement already satisfied: tensorflow-estimator<2.5.0,>=2.4.0 in c:\\python\\anaconda3\\lib\\site-packages (from tensorflow->object_detection) (2.4.0)\n",
      "Requirement already satisfied: wheel~=0.35 in c:\\python\\anaconda3\\lib\\site-packages (from tensorflow->object_detection) (0.35.1)\n",
      "Requirement already satisfied: tensorboard~=2.4 in c:\\python\\anaconda3\\lib\\site-packages (from tensorflow->object_detection) (2.4.1)\n",
      "Requirement already satisfied: flatbuffers~=1.12.0 in c:\\python\\anaconda3\\lib\\site-packages (from tensorflow->object_detection) (1.12)\n",
      "Requirement already satisfied: astunparse~=1.6.3 in c:\\python\\anaconda3\\lib\\site-packages (from tensorflow->object_detection) (1.6.3)\n",
      "Requirement already satisfied: protobuf>=3.9.2 in c:\\python\\anaconda3\\lib\\site-packages (from tensorflow->object_detection) (3.15.3)\n",
      "Requirement already satisfied: grpcio~=1.32.0 in c:\\python\\anaconda3\\lib\\site-packages (from tensorflow->object_detection) (1.32.0)\n",
      "Requirement already satisfied: numpy~=1.19.2 in c:\\python\\anaconda3\\lib\\site-packages (from tensorflow->object_detection) (1.19.2)\n",
      "Requirement already satisfied: typing-extensions~=3.7.4 in c:\\python\\anaconda3\\lib\\site-packages (from tensorflow->object_detection) (3.7.4.3)\n",
      "Requirement already satisfied: absl-py~=0.10 in c:\\python\\anaconda3\\lib\\site-packages (from tensorflow->object_detection) (0.11.0)\n",
      "Requirement already satisfied: qtconsole in c:\\python\\anaconda3\\lib\\site-packages (from jupyter->object_detection) (4.7.7)\n",
      "Requirement already satisfied: nbconvert in c:\\python\\anaconda3\\lib\\site-packages (from jupyter->object_detection) (6.0.7)\n",
      "Requirement already satisfied: ipywidgets in c:\\python\\anaconda3\\lib\\site-packages (from jupyter->object_detection) (7.5.1)\n",
      "Requirement already satisfied: notebook in c:\\python\\anaconda3\\lib\\site-packages (from jupyter->object_detection) (6.1.4)\n",
      "Requirement already satisfied: ipykernel in c:\\python\\anaconda3\\lib\\site-packages (from jupyter->object_detection) (5.3.4)\n",
      "Requirement already satisfied: jupyter-console in c:\\python\\anaconda3\\lib\\site-packages (from jupyter->object_detection) (6.2.0)\n",
      "Requirement already satisfied: pyparsing!=2.0.4,!=2.1.2,!=2.1.6,>=2.0.3 in c:\\python\\anaconda3\\lib\\site-packages (from matplotlib->object_detection) (2.4.7)\n",
      "Requirement already satisfied: certifi>=2020.06.20 in c:\\python\\anaconda3\\lib\\site-packages (from matplotlib->object_detection) (2020.6.20)\n",
      "Requirement already satisfied: cycler>=0.10 in c:\\python\\anaconda3\\lib\\site-packages (from matplotlib->object_detection) (0.10.0)\n",
      "Requirement already satisfied: python-dateutil>=2.1 in c:\\python\\anaconda3\\lib\\site-packages (from matplotlib->object_detection) (2.8.1)\n",
      "Requirement already satisfied: kiwisolver>=1.0.1 in c:\\python\\anaconda3\\lib\\site-packages (from matplotlib->object_detection) (1.3.0)\n",
      "Requirement already satisfied: google-auth-oauthlib<0.5,>=0.4.1 in c:\\python\\anaconda3\\lib\\site-packages (from tensorboard~=2.4->tensorflow->object_detection) (0.4.2)\n",
      "Requirement already satisfied: setuptools>=41.0.0 in c:\\python\\anaconda3\\lib\\site-packages (from tensorboard~=2.4->tensorflow->object_detection) (50.3.1.post20201107)\n",
      "Requirement already satisfied: requests<3,>=2.21.0 in c:\\python\\anaconda3\\lib\\site-packages (from tensorboard~=2.4->tensorflow->object_detection) (2.24.0)\n",
      "Requirement already satisfied: werkzeug>=0.11.15 in c:\\python\\anaconda3\\lib\\site-packages (from tensorboard~=2.4->tensorflow->object_detection) (1.0.1)\n",
      "Requirement already satisfied: tensorboard-plugin-wit>=1.6.0 in c:\\python\\anaconda3\\lib\\site-packages (from tensorboard~=2.4->tensorflow->object_detection) (1.8.0)\n",
      "Requirement already satisfied: markdown>=2.6.8 in c:\\python\\anaconda3\\lib\\site-packages (from tensorboard~=2.4->tensorflow->object_detection) (3.3.4)\n",
      "Requirement already satisfied: google-auth<2,>=1.6.3 in c:\\python\\anaconda3\\lib\\site-packages (from tensorboard~=2.4->tensorflow->object_detection) (1.27.0)\n",
      "Requirement already satisfied: pygments in c:\\python\\anaconda3\\lib\\site-packages (from qtconsole->jupyter->object_detection) (2.7.2)\n",
      "Requirement already satisfied: jupyter-client>=4.1 in c:\\python\\anaconda3\\lib\\site-packages (from qtconsole->jupyter->object_detection) (6.1.7)\n",
      "Requirement already satisfied: pyzmq>=17.1 in c:\\python\\anaconda3\\lib\\site-packages (from qtconsole->jupyter->object_detection) (19.0.2)\n",
      "Requirement already satisfied: ipython-genutils in c:\\python\\anaconda3\\lib\\site-packages (from qtconsole->jupyter->object_detection) (0.2.0)\n",
      "Requirement already satisfied: qtpy in c:\\python\\anaconda3\\lib\\site-packages (from qtconsole->jupyter->object_detection) (1.9.0)\n",
      "Requirement already satisfied: traitlets in c:\\python\\anaconda3\\lib\\site-packages (from qtconsole->jupyter->object_detection) (5.0.5)\n",
      "Requirement already satisfied: jupyter-core in c:\\python\\anaconda3\\lib\\site-packages (from qtconsole->jupyter->object_detection) (4.6.3)\n",
      "Requirement already satisfied: defusedxml in c:\\python\\anaconda3\\lib\\site-packages (from nbconvert->jupyter->object_detection) (0.6.0)\n",
      "Requirement already satisfied: nbformat>=4.4 in c:\\python\\anaconda3\\lib\\site-packages (from nbconvert->jupyter->object_detection) (5.0.8)\n",
      "Requirement already satisfied: mistune<2,>=0.8.1 in c:\\python\\anaconda3\\lib\\site-packages (from nbconvert->jupyter->object_detection) (0.8.4)\n",
      "Requirement already satisfied: nbclient<0.6.0,>=0.5.0 in c:\\python\\anaconda3\\lib\\site-packages (from nbconvert->jupyter->object_detection) (0.5.1)\n",
      "Requirement already satisfied: jinja2>=2.4 in c:\\python\\anaconda3\\lib\\site-packages (from nbconvert->jupyter->object_detection) (2.11.2)\n",
      "Requirement already satisfied: bleach in c:\\python\\anaconda3\\lib\\site-packages (from nbconvert->jupyter->object_detection) (3.2.1)\n",
      "Requirement already satisfied: jupyterlab-pygments in c:\\python\\anaconda3\\lib\\site-packages (from nbconvert->jupyter->object_detection) (0.1.2)\n",
      "Requirement already satisfied: entrypoints>=0.2.2 in c:\\python\\anaconda3\\lib\\site-packages (from nbconvert->jupyter->object_detection) (0.3)\n",
      "Requirement already satisfied: pandocfilters>=1.4.1 in c:\\python\\anaconda3\\lib\\site-packages (from nbconvert->jupyter->object_detection) (1.4.3)\n",
      "Requirement already satisfied: testpath in c:\\python\\anaconda3\\lib\\site-packages (from nbconvert->jupyter->object_detection) (0.4.4)\n",
      "Requirement already satisfied: widgetsnbextension~=3.5.0 in c:\\python\\anaconda3\\lib\\site-packages (from ipywidgets->jupyter->object_detection) (3.5.1)\n",
      "Requirement already satisfied: ipython>=4.0.0; python_version >= \"3.3\" in c:\\python\\anaconda3\\lib\\site-packages (from ipywidgets->jupyter->object_detection) (7.19.0)\n",
      "Requirement already satisfied: Send2Trash in c:\\python\\anaconda3\\lib\\site-packages (from notebook->jupyter->object_detection) (1.5.0)\n",
      "Requirement already satisfied: terminado>=0.8.3 in c:\\python\\anaconda3\\lib\\site-packages (from notebook->jupyter->object_detection) (0.9.1)\n",
      "Requirement already satisfied: prometheus-client in c:\\python\\anaconda3\\lib\\site-packages (from notebook->jupyter->object_detection) (0.8.0)\n",
      "Requirement already satisfied: argon2-cffi in c:\\python\\anaconda3\\lib\\site-packages (from notebook->jupyter->object_detection) (20.1.0)\n",
      "Requirement already satisfied: tornado>=5.0 in c:\\python\\anaconda3\\lib\\site-packages (from notebook->jupyter->object_detection) (6.0.4)\n",
      "Requirement already satisfied: prompt-toolkit!=3.0.0,!=3.0.1,<3.1.0,>=2.0.0 in c:\\python\\anaconda3\\lib\\site-packages (from jupyter-console->jupyter->object_detection) (3.0.8)\n",
      "Requirement already satisfied: requests-oauthlib>=0.7.0 in c:\\python\\anaconda3\\lib\\site-packages (from google-auth-oauthlib<0.5,>=0.4.1->tensorboard~=2.4->tensorflow->object_detection) (1.3.0)\n",
      "Requirement already satisfied: chardet<4,>=3.0.2 in c:\\python\\anaconda3\\lib\\site-packages (from requests<3,>=2.21.0->tensorboard~=2.4->tensorflow->object_detection) (3.0.4)\n",
      "Requirement already satisfied: idna<3,>=2.5 in c:\\python\\anaconda3\\lib\\site-packages (from requests<3,>=2.21.0->tensorboard~=2.4->tensorflow->object_detection) (2.10)\n",
      "Requirement already satisfied: urllib3!=1.25.0,!=1.25.1,<1.26,>=1.21.1 in c:\\python\\anaconda3\\lib\\site-packages (from requests<3,>=2.21.0->tensorboard~=2.4->tensorflow->object_detection) (1.25.11)\n",
      "Requirement already satisfied: pyasn1-modules>=0.2.1 in c:\\python\\anaconda3\\lib\\site-packages (from google-auth<2,>=1.6.3->tensorboard~=2.4->tensorflow->object_detection) (0.2.8)\n",
      "Requirement already satisfied: rsa<5,>=3.1.4; python_version >= \"3.6\" in c:\\python\\anaconda3\\lib\\site-packages (from google-auth<2,>=1.6.3->tensorboard~=2.4->tensorflow->object_detection) (4.7.2)\n",
      "Requirement already satisfied: cachetools<5.0,>=2.0.0 in c:\\python\\anaconda3\\lib\\site-packages (from google-auth<2,>=1.6.3->tensorboard~=2.4->tensorflow->object_detection) (4.2.1)\n",
      "Requirement already satisfied: pywin32>=1.0; sys_platform == \"win32\" in c:\\python\\anaconda3\\lib\\site-packages (from jupyter-core->qtconsole->jupyter->object_detection) (227)\n",
      "Requirement already satisfied: jsonschema!=2.5.0,>=2.4 in c:\\python\\anaconda3\\lib\\site-packages (from nbformat>=4.4->nbconvert->jupyter->object_detection) (3.2.0)\n",
      "Requirement already satisfied: async-generator in c:\\python\\anaconda3\\lib\\site-packages (from nbclient<0.6.0,>=0.5.0->nbconvert->jupyter->object_detection) (1.10)\n",
      "Requirement already satisfied: nest-asyncio in c:\\python\\anaconda3\\lib\\site-packages (from nbclient<0.6.0,>=0.5.0->nbconvert->jupyter->object_detection) (1.4.2)\n",
      "Requirement already satisfied: MarkupSafe>=0.23 in c:\\python\\anaconda3\\lib\\site-packages (from jinja2>=2.4->nbconvert->jupyter->object_detection) (1.1.1)\n",
      "Requirement already satisfied: webencodings in c:\\python\\anaconda3\\lib\\site-packages (from bleach->nbconvert->jupyter->object_detection) (0.5.1)\n",
      "Requirement already satisfied: packaging in c:\\python\\anaconda3\\lib\\site-packages (from bleach->nbconvert->jupyter->object_detection) (20.4)\n",
      "Requirement already satisfied: backcall in c:\\python\\anaconda3\\lib\\site-packages (from ipython>=4.0.0; python_version >= \"3.3\"->ipywidgets->jupyter->object_detection) (0.2.0)\n",
      "Requirement already satisfied: pickleshare in c:\\python\\anaconda3\\lib\\site-packages (from ipython>=4.0.0; python_version >= \"3.3\"->ipywidgets->jupyter->object_detection) (0.7.5)\n",
      "Requirement already satisfied: colorama; sys_platform == \"win32\" in c:\\python\\anaconda3\\lib\\site-packages (from ipython>=4.0.0; python_version >= \"3.3\"->ipywidgets->jupyter->object_detection) (0.4.4)\n",
      "Requirement already satisfied: decorator in c:\\python\\anaconda3\\lib\\site-packages (from ipython>=4.0.0; python_version >= \"3.3\"->ipywidgets->jupyter->object_detection) (4.4.2)\n",
      "Requirement already satisfied: jedi>=0.10 in c:\\python\\anaconda3\\lib\\site-packages (from ipython>=4.0.0; python_version >= \"3.3\"->ipywidgets->jupyter->object_detection) (0.17.1)\n",
      "Requirement already satisfied: pywinpty>=0.5 in c:\\python\\anaconda3\\lib\\site-packages (from terminado>=0.8.3->notebook->jupyter->object_detection) (0.5.7)\n",
      "Requirement already satisfied: cffi>=1.0.0 in c:\\python\\anaconda3\\lib\\site-packages (from argon2-cffi->notebook->jupyter->object_detection) (1.14.3)\n",
      "Requirement already satisfied: wcwidth in c:\\python\\anaconda3\\lib\\site-packages (from prompt-toolkit!=3.0.0,!=3.0.1,<3.1.0,>=2.0.0->jupyter-console->jupyter->object_detection) (0.2.5)\n",
      "Requirement already satisfied: oauthlib>=3.0.0 in c:\\python\\anaconda3\\lib\\site-packages (from requests-oauthlib>=0.7.0->google-auth-oauthlib<0.5,>=0.4.1->tensorboard~=2.4->tensorflow->object_detection) (3.1.0)\n",
      "Requirement already satisfied: pyasn1<0.5.0,>=0.4.6 in c:\\python\\anaconda3\\lib\\site-packages (from pyasn1-modules>=0.2.1->google-auth<2,>=1.6.3->tensorboard~=2.4->tensorflow->object_detection) (0.4.8)\n",
      "Requirement already satisfied: pyrsistent>=0.14.0 in c:\\python\\anaconda3\\lib\\site-packages (from jsonschema!=2.5.0,>=2.4->nbformat>=4.4->nbconvert->jupyter->object_detection) (0.17.3)\n",
      "Requirement already satisfied: attrs>=17.4.0 in c:\\python\\anaconda3\\lib\\site-packages (from jsonschema!=2.5.0,>=2.4->nbformat>=4.4->nbconvert->jupyter->object_detection) (20.3.0)\n",
      "Requirement already satisfied: parso<0.8.0,>=0.7.0 in c:\\python\\anaconda3\\lib\\site-packages (from jedi>=0.10->ipython>=4.0.0; python_version >= \"3.3\"->ipywidgets->jupyter->object_detection) (0.7.0)\n",
      "Requirement already satisfied: pycparser in c:\\python\\anaconda3\\lib\\site-packages (from cffi>=1.0.0->argon2-cffi->notebook->jupyter->object_detection) (2.20)\n",
      "Installing collected packages: object-detection\n",
      "Successfully installed object-detection-0.0.3\n"
     ]
    }
   ],
   "source": [
    "# !pip install tensorflow\n",
    "# !pip install object_detection"
   ]
  },
  {
   "cell_type": "code",
   "execution_count": 2,
   "metadata": {},
   "outputs": [],
   "source": [
    "IMAGE_PATH = 'Tensorflow\\workspace\\images\\collectedimages'"
   ]
  },
  {
   "cell_type": "code",
   "execution_count": null,
   "metadata": {},
   "outputs": [],
   "source": []
  },
  {
   "cell_type": "code",
   "execution_count": null,
   "metadata": {},
   "outputs": [],
   "source": []
  },
  {
   "cell_type": "code",
   "execution_count": 3,
   "metadata": {},
   "outputs": [],
   "source": [
    "labels = [\"hello\", \"play\", \"stop\", \"next\", \"pre\"]\n",
    "number_imgs = 15"
   ]
  },
  {
   "cell_type": "code",
   "execution_count": 4,
   "metadata": {},
   "outputs": [],
   "source": [
    "# # 웹캠 캡쳐 작업\n",
    "\n",
    "# for label in labels:\n",
    "#   !mkdir {'Tensorflow\\workspace\\images\\collectedimages\\\\'+label}\n",
    "#   cap = cv2.VideoCapture(0)\n",
    "#   print('Collecting images for {}'.format(label))\n",
    "#   time.sleep(5)\n",
    "#   for imgnum in range(number_imgs):\n",
    "#     ret, frame = cap.read()\n",
    "#     image_name= os.path.join(IMAGE_PATH, label, label+'.'+'{}.jpg'.format(str(uuid.uuid1())))\n",
    "#     cv2.imwrite(image_name,frame)\n",
    "#     cv2.imshow('frame',frame)\n",
    "#     time.sleep(2)\n",
    "\n",
    "#     if cv2.waitKey(1) & 0xFF == ord('q'): #키보드 1초 대기 : waitKey(1)\n",
    "#       break\n",
    "#   cap.release()"
   ]
  },
  {
   "cell_type": "code",
   "execution_count": null,
   "metadata": {},
   "outputs": [],
   "source": []
  },
  {
   "cell_type": "code",
   "execution_count": 6,
   "metadata": {},
   "outputs": [],
   "source": [
    "WORKSPACE_PATH = 'Tensorflow\\workspace'\n",
    "SCRIPTS_PATH = 'Tensorflow/scripts'\n",
    "APIMODEL_PATH = 'Tensorflow/models'"
   ]
  },
  {
   "cell_type": "code",
   "execution_count": 8,
   "metadata": {},
   "outputs": [],
   "source": [
    "ANNOTATION_PATH = WORKSPACE_PATH+'/annotations'\n",
    "IMAGE_PATH = WORKSPACE_PATH+'/images'\n",
    "MODEL_PATH = WORKSPACE_PATH+'/models'"
   ]
  },
  {
   "cell_type": "code",
   "execution_count": 10,
   "metadata": {},
   "outputs": [],
   "source": [
    "PRETRAINED_MODEL_PATH = WORKSPACE_PATH+'/pre-trained-models'\n",
    "CONFIG_PATH = MODEL_PATH+'/my_ssd_mobnet/pipeline.config'\n",
    "CHECKPOINT_PATH = MODEL_PATH+'/my_ssd_mobnet/'"
   ]
  },
  {
   "cell_type": "code",
   "execution_count": 11,
   "metadata": {},
   "outputs": [],
   "source": [
    "labels = [\n",
    "          {'name':'hello', 'id':1},\n",
    "          {'name':'next', 'id':2},\n",
    "          {'name':'play', 'id':3},\n",
    "          {'name':'pre', 'id':4},\n",
    "          {'name':'stop', 'id':5}\n",
    "          ]\n",
    "\n",
    "with open(ANNOTATION_PATH + '\\label_map.pbtxt', 'w') as f:\n",
    "    for label in labels:\n",
    "        f.write('item { \\n')\n",
    "        f.write('\\tname:\\'{}\\'\\n'.format(label['name']))\n",
    "        f.write('\\tid:{}\\n'.format(label['id']))\n",
    "        f.write('}\\n')"
   ]
  },
  {
   "cell_type": "code",
   "execution_count": 25,
   "metadata": {
    "scrolled": true
   },
   "outputs": [
    {
     "name": "stderr",
     "output_type": "stream",
     "text": [
      "Traceback (most recent call last):\n",
      "  File \"Tensorflow/scripts/generate_tfrecord.py\", line 21, in <module>\n",
      "    import pandas as pd\n",
      "  File \"C:\\Python\\anaconda3\\lib\\site-packages\\pandas\\__init__.py\", line 16, in <module>\n",
      "    raise ImportError(\n",
      "ImportError: Unable to import required dependencies:\n",
      "numpy: cannot import name 'set_array_function_like_doc' from 'numpy.core.overrides' (C:\\Python\\anaconda3\\lib\\site-packages\\numpy\\core\\overrides.py)\n",
      "Traceback (most recent call last):\n",
      "  File \"Tensorflow/scripts/generate_tfrecord.py\", line 21, in <module>\n",
      "    import pandas as pd\n",
      "  File \"C:\\Python\\anaconda3\\lib\\site-packages\\pandas\\__init__.py\", line 16, in <module>\n",
      "    raise ImportError(\n",
      "ImportError: Unable to import required dependencies:\n",
      "numpy: cannot import name 'set_array_function_like_doc' from 'numpy.core.overrides' (C:\\Python\\anaconda3\\lib\\site-packages\\numpy\\core\\overrides.py)\n"
     ]
    }
   ],
   "source": [
    "!python {SCRIPTS_PATH + '/generate_tfrecord.py'} -x {IMAGE_PATH + '/train'} -l {ANNOTATION_PATH + '/label_map.pbtxt'} -o {ANNOTATION_PATH + '/train.record'}\n",
    "!python {SCRIPTS_PATH + '/generate_tfrecord.py'} -x {IMAGE_PATH + '/test'} -l {ANNOTATION_PATH + '/label_map.pbtxt'} -o {ANNOTATION_PATH + '/test.record'}"
   ]
  },
  {
   "cell_type": "code",
   "execution_count": 24,
   "metadata": {},
   "outputs": [
    {
     "data": {
      "text/plain": [
       "'1.19.2'"
      ]
     },
     "execution_count": 24,
     "metadata": {},
     "output_type": "execute_result"
    }
   ],
   "source": [
    "\n",
    "np.__version__"
   ]
  },
  {
   "cell_type": "code",
   "execution_count": 26,
   "metadata": {},
   "outputs": [
    {
     "ename": "NameError",
     "evalue": "name 'python' is not defined",
     "output_type": "error",
     "traceback": [
      "\u001b[1;31m---------------------------------------------------------------------------\u001b[0m",
      "\u001b[1;31mNameError\u001b[0m                                 Traceback (most recent call last)",
      "\u001b[1;32m<ipython-input-26-45a3ce2a2cc7>\u001b[0m in \u001b[0;36m<module>\u001b[1;34m\u001b[0m\n\u001b[1;32m----> 1\u001b[1;33m \u001b[0mpython\u001b[0m\u001b[1;33m.\u001b[0m\u001b[0m__version__\u001b[0m\u001b[1;33m\u001b[0m\u001b[1;33m\u001b[0m\u001b[0m\n\u001b[0m",
      "\u001b[1;31mNameError\u001b[0m: name 'python' is not defined"
     ]
    }
   ],
   "source": [
    "python.__version__"
   ]
  },
  {
   "cell_type": "code",
   "execution_count": null,
   "metadata": {},
   "outputs": [],
   "source": []
  }
 ],
 "metadata": {
  "kernelspec": {
   "display_name": "Python 3",
   "language": "python",
   "name": "python3"
  },
  "language_info": {
   "codemirror_mode": {
    "name": "ipython",
    "version": 3
   },
   "file_extension": ".py",
   "mimetype": "text/x-python",
   "name": "python",
   "nbconvert_exporter": "python",
   "pygments_lexer": "ipython3",
   "version": "3.8.5"
  }
 },
 "nbformat": 4,
 "nbformat_minor": 4
}
